{
 "cells": [
  {
   "cell_type": "code",
   "execution_count": 1,
   "metadata": {},
   "outputs": [],
   "source": [
    "import numpy as np"
   ]
  },
  {
   "cell_type": "markdown",
   "metadata": {},
   "source": [
    "there are two kinds of stores: deliverable and non-deliverable\n",
    " -> Deliverable: order through store\n",
    " -> Non-deliverable: allow users to monetize by buying order for them and others \n",
    "    (users can decide to \"create a ticket\" or \"join an existing ticket\")\n"
   ]
  },
  {
   "cell_type": "code",
   "execution_count": null,
   "metadata": {},
   "outputs": [],
   "source": [
    "# set up users \n",
    "users_description = {\n",
    "    \"user_id\": \"unique user id attached to each account\", \n",
    "    \"name\": \"user account name\", # real name or no? confirm student status or no?\n",
    "    \"preferred_location\": \"preferred delivery location\",\n",
    "}\n",
    "\n",
    "# set up features\n",
    "features_description = {\n",
    "    \"time_stamp\": \"time when a request is made\", \n",
    "    \"order_number\": \"identifier of an order\", \n",
    "    \"order_date\": \"the date when the order should arrive\", \n",
    "    \"user_id\": \"unique user id attached to each account\", \n",
    "    \"matching_preference\": \"preference for matching: store, items, date, none\",\n",
    "    \"store\": \"the store that the user initially want to purchase from\",\n",
    "    \"item\": \"the item that wants to be purchased\", \n",
    "    \"quantity\": \"the quantity of the item\"\n",
    "}\n",
    "\n",
    "features = features_description.keys"
   ]
  },
  {
   "cell_type": "code",
   "execution_count": null,
   "metadata": {},
   "outputs": [],
   "source": [
    "# Levington Ranking Algorithm\n"
   ]
  }
 ],
 "metadata": {
  "kernelspec": {
   "display_name": "bytebuy",
   "language": "python",
   "name": "python3"
  },
  "language_info": {
   "codemirror_mode": {
    "name": "ipython",
    "version": 3
   },
   "file_extension": ".py",
   "mimetype": "text/x-python",
   "name": "python",
   "nbconvert_exporter": "python",
   "pygments_lexer": "ipython3",
   "version": "3.10.13"
  }
 },
 "nbformat": 4,
 "nbformat_minor": 2
}
