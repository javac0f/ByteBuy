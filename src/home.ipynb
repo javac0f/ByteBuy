{
 "cells": [
  {
   "cell_type": "code",
   "execution_count": 1,
   "metadata": {},
   "outputs": [],
   "source": [
    "import numpy as np"
   ]
  },
  {
   "cell_type": "markdown",
   "metadata": {},
   "source": [
    "there are two kinds of stores: deliverable and non-deliverable\n",
    " -> Deliverable: order through store\n",
    " -> Non-deliverable: allow users to monetize by buying order for them and others \n",
    "    (users can decide to \"create a ticket\" or \"join an existing ticket\")\n"
   ]
  },
  {
   "cell_type": "code",
   "execution_count": null,
   "metadata": {},
   "outputs": [],
   "source": [
    "# set up users \n",
    "users_description = {\n",
    "    \"user_id\": \"unique user id attached to each account\", \n",
    "    \"name\": \"user account name\", # real name or no? confirm student status or no?\n",
    "    \"preferred_location\": \"preferred delivery location\",\n",
    "}\n",
    "\n",
    "# set up features\n",
    "features_description = {\n",
    "    \"time_stamp\": \"time when a request is made\", \n",
    "    \"order_number\": \"identifier of an order\", \n",
    "    \"order_date\": \"the date when the order should arrive\", \n",
    "    \"user_id\": \"unique user id attached to each account\", \n",
    "    \"matching_preference\": \"preference for matching: store, items, date, none\",\n",
    "    \"store\": \"the store that the user initially want to purchase from\",\n",
    "    \"item\": \"the item that wants to be purchased\", \n",
    "    \"quantity\": \"the quantity of the item\"\n",
    "}\n",
    "\n",
    "features = features_description.keys"
   ]
  },
  {
   "cell_type": "code",
   "execution_count": null,
   "metadata": {},
   "outputs": [],
   "source": [
    "data_example = {\n",
    "    \"time_stamp\": \"10sdsjfhksfs\", \n",
    "    \"order_number\": 1739302, \n",
    "    \"order_date\": \"2023/11/15\", \n",
    "    \"user_id\": \"82U903\", \n",
    "    \"matching_preference\": \"preference for matching: store, items, date, none\",\n",
    "    \"store\": \"the store that the user initially want to purchase from\",\n",
    "    \"item\": \"the item that wants to be purchased\", \n",
    "    \"quantity\": \"the quantity of the item\"\n",
    "}"
   ]
  },
  {
   "cell_type": "markdown",
   "metadata": {},
   "source": [
    "### Ordering Journey\n",
    "\n",
    "1. Choose store \n",
    "\n",
    "    => Suggest orders from same store with % minimum and order date => choose order to \"Join\"\n",
    "\n",
    "2. Choose items "
   ]
  },
  {
   "cell_type": "code",
   "execution_count": null,
   "metadata": {},
   "outputs": [],
   "source": []
  }
 ],
 "metadata": {
  "kernelspec": {
   "display_name": "bytebuy",
   "language": "python",
   "name": "python3"
  },
  "language_info": {
   "codemirror_mode": {
    "name": "ipython",
    "version": 3
   },
   "file_extension": ".py",
   "mimetype": "text/x-python",
   "name": "python",
   "nbconvert_exporter": "python",
   "pygments_lexer": "ipython3",
   "version": "3.10.13"
  }
 },
 "nbformat": 4,
 "nbformat_minor": 2
}
