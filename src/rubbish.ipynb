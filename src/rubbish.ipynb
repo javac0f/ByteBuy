{
 "cells": [
  {
   "cell_type": "code",
   "execution_count": 3,
   "metadata": {},
   "outputs": [],
   "source": [
    "import pandas as pd"
   ]
  },
  {
   "cell_type": "markdown",
   "metadata": {},
   "source": [
    "Order tuples:\n",
    "\n",
    "(id, descriptor)\n",
    "\n",
    "descriptor string: f\"{store} {date} {completion}\""
   ]
  },
  {
   "cell_type": "code",
   "execution_count": 49,
   "metadata": {},
   "outputs": [
    {
     "data": {
      "text/html": [
       "<div>\n",
       "<style scoped>\n",
       "    .dataframe tbody tr th:only-of-type {\n",
       "        vertical-align: middle;\n",
       "    }\n",
       "\n",
       "    .dataframe tbody tr th {\n",
       "        vertical-align: top;\n",
       "    }\n",
       "\n",
       "    .dataframe thead th {\n",
       "        text-align: right;\n",
       "    }\n",
       "</style>\n",
       "<table border=\"1\" class=\"dataframe\">\n",
       "  <thead>\n",
       "    <tr style=\"text-align: right;\">\n",
       "      <th></th>\n",
       "      <th>Author</th>\n",
       "      <th>StoreName</th>\n",
       "      <th>Public</th>\n",
       "      <th>OrderDate</th>\n",
       "    </tr>\n",
       "    <tr>\n",
       "      <th>ID</th>\n",
       "      <th></th>\n",
       "      <th></th>\n",
       "      <th></th>\n",
       "      <th></th>\n",
       "    </tr>\n",
       "  </thead>\n",
       "  <tbody>\n",
       "    <tr>\n",
       "      <th>1</th>\n",
       "      <td>Josh</td>\n",
       "      <td>Wegmans</td>\n",
       "      <td>True</td>\n",
       "      <td>10-10-2023</td>\n",
       "    </tr>\n",
       "    <tr>\n",
       "      <th>2</th>\n",
       "      <td>Khanh Le</td>\n",
       "      <td>Target</td>\n",
       "      <td>True</td>\n",
       "      <td>10-12-2023</td>\n",
       "    </tr>\n",
       "    <tr>\n",
       "      <th>3</th>\n",
       "      <td>John</td>\n",
       "      <td>Wegmans</td>\n",
       "      <td>True</td>\n",
       "      <td>23-10-2023</td>\n",
       "    </tr>\n",
       "  </tbody>\n",
       "</table>\n",
       "</div>"
      ],
      "text/plain": [
       "      Author StoreName  Public   OrderDate\n",
       "ID                                        \n",
       "1       Josh   Wegmans    True  10-10-2023\n",
       "2   Khanh Le    Target    True  10-12-2023\n",
       "3       John   Wegmans    True  23-10-2023"
      ]
     },
     "execution_count": 49,
     "metadata": {},
     "output_type": "execute_result"
    }
   ],
   "source": [
    "orders_df = pd.read_csv(\"../database/orders.csv\", index_col=\"ID\")\n",
    "orders_df"
   ]
  },
  {
   "cell_type": "code",
   "execution_count": 50,
   "metadata": {},
   "outputs": [
    {
     "data": {
      "text/html": [
       "<div>\n",
       "<style scoped>\n",
       "    .dataframe tbody tr th:only-of-type {\n",
       "        vertical-align: middle;\n",
       "    }\n",
       "\n",
       "    .dataframe tbody tr th {\n",
       "        vertical-align: top;\n",
       "    }\n",
       "\n",
       "    .dataframe thead th {\n",
       "        text-align: right;\n",
       "    }\n",
       "</style>\n",
       "<table border=\"1\" class=\"dataframe\">\n",
       "  <thead>\n",
       "    <tr style=\"text-align: right;\">\n",
       "      <th></th>\n",
       "      <th>MinOrder</th>\n",
       "      <th>MinOrderFee</th>\n",
       "      <th>Deliverable</th>\n",
       "      <th>DeliveryFee</th>\n",
       "    </tr>\n",
       "    <tr>\n",
       "      <th>StoreName</th>\n",
       "      <th></th>\n",
       "      <th></th>\n",
       "      <th></th>\n",
       "      <th></th>\n",
       "    </tr>\n",
       "  </thead>\n",
       "  <tbody>\n",
       "    <tr>\n",
       "      <th>Wegmans</th>\n",
       "      <td>35</td>\n",
       "      <td>8</td>\n",
       "      <td>True</td>\n",
       "      <td>0</td>\n",
       "    </tr>\n",
       "    <tr>\n",
       "      <th>Walmart</th>\n",
       "      <td>35</td>\n",
       "      <td>7</td>\n",
       "      <td>True</td>\n",
       "      <td>0</td>\n",
       "    </tr>\n",
       "    <tr>\n",
       "      <th>Target</th>\n",
       "      <td>-1</td>\n",
       "      <td>-1</td>\n",
       "      <td>True</td>\n",
       "      <td>10</td>\n",
       "    </tr>\n",
       "    <tr>\n",
       "      <th>Asian Food Market</th>\n",
       "      <td>-1</td>\n",
       "      <td>-1</td>\n",
       "      <td>False</td>\n",
       "      <td>-1</td>\n",
       "    </tr>\n",
       "  </tbody>\n",
       "</table>\n",
       "</div>"
      ],
      "text/plain": [
       "                   MinOrder  MinOrderFee  Deliverable  DeliveryFee\n",
       "StoreName                                                         \n",
       "Wegmans                  35            8         True            0\n",
       "Walmart                  35            7         True            0\n",
       "Target                   -1           -1         True           10\n",
       "Asian Food Market        -1           -1        False           -1"
      ]
     },
     "execution_count": 50,
     "metadata": {},
     "output_type": "execute_result"
    }
   ],
   "source": [
    "stores_df = pd.read_csv(\"../database/stores.csv\", index_col=\"StoreName\")\n",
    "stores_df"
   ]
  },
  {
   "cell_type": "code",
   "execution_count": 52,
   "metadata": {},
   "outputs": [
    {
     "data": {
      "text/html": [
       "<div>\n",
       "<style scoped>\n",
       "    .dataframe tbody tr th:only-of-type {\n",
       "        vertical-align: middle;\n",
       "    }\n",
       "\n",
       "    .dataframe tbody tr th {\n",
       "        vertical-align: top;\n",
       "    }\n",
       "\n",
       "    .dataframe thead th {\n",
       "        text-align: right;\n",
       "    }\n",
       "</style>\n",
       "<table border=\"1\" class=\"dataframe\">\n",
       "  <thead>\n",
       "    <tr style=\"text-align: right;\">\n",
       "      <th></th>\n",
       "      <th>User</th>\n",
       "      <th>Name</th>\n",
       "      <th>Price</th>\n",
       "      <th>Quantity</th>\n",
       "      <th>OrderID</th>\n",
       "    </tr>\n",
       "    <tr>\n",
       "      <th>ID</th>\n",
       "      <th></th>\n",
       "      <th></th>\n",
       "      <th></th>\n",
       "      <th></th>\n",
       "      <th></th>\n",
       "    </tr>\n",
       "  </thead>\n",
       "  <tbody>\n",
       "    <tr>\n",
       "      <th>1</th>\n",
       "      <td>Josh</td>\n",
       "      <td>Carrot</td>\n",
       "      <td>3</td>\n",
       "      <td>4</td>\n",
       "      <td>1</td>\n",
       "    </tr>\n",
       "    <tr>\n",
       "      <th>2</th>\n",
       "      <td>Josh</td>\n",
       "      <td>Chips</td>\n",
       "      <td>2</td>\n",
       "      <td>1</td>\n",
       "      <td>1</td>\n",
       "    </tr>\n",
       "    <tr>\n",
       "      <th>3</th>\n",
       "      <td>Luna</td>\n",
       "      <td>Carrot</td>\n",
       "      <td>3</td>\n",
       "      <td>2</td>\n",
       "      <td>1</td>\n",
       "    </tr>\n",
       "    <tr>\n",
       "      <th>4</th>\n",
       "      <td>Luna</td>\n",
       "      <td>Matcha</td>\n",
       "      <td>10</td>\n",
       "      <td>1</td>\n",
       "      <td>1</td>\n",
       "    </tr>\n",
       "    <tr>\n",
       "      <th>5</th>\n",
       "      <td>Jared</td>\n",
       "      <td>Carrot</td>\n",
       "      <td>3</td>\n",
       "      <td>1</td>\n",
       "      <td>1</td>\n",
       "    </tr>\n",
       "    <tr>\n",
       "      <th>6</th>\n",
       "      <td>Luna</td>\n",
       "      <td>Fish</td>\n",
       "      <td>11</td>\n",
       "      <td>1</td>\n",
       "      <td>1</td>\n",
       "    </tr>\n",
       "    <tr>\n",
       "      <th>7</th>\n",
       "      <td>Khanh Le</td>\n",
       "      <td>Detergent</td>\n",
       "      <td>7</td>\n",
       "      <td>2</td>\n",
       "      <td>2</td>\n",
       "    </tr>\n",
       "    <tr>\n",
       "      <th>8</th>\n",
       "      <td>Khanh Le</td>\n",
       "      <td>Knife</td>\n",
       "      <td>2</td>\n",
       "      <td>1</td>\n",
       "      <td>2</td>\n",
       "    </tr>\n",
       "    <tr>\n",
       "      <th>9</th>\n",
       "      <td>John</td>\n",
       "      <td>Book</td>\n",
       "      <td>4</td>\n",
       "      <td>10</td>\n",
       "      <td>3</td>\n",
       "    </tr>\n",
       "  </tbody>\n",
       "</table>\n",
       "</div>"
      ],
      "text/plain": [
       "        User       Name  Price  Quantity  OrderID\n",
       "ID                                               \n",
       "1       Josh     Carrot      3         4        1\n",
       "2       Josh      Chips      2         1        1\n",
       "3       Luna     Carrot      3         2        1\n",
       "4       Luna     Matcha     10         1        1\n",
       "5      Jared     Carrot      3         1        1\n",
       "6       Luna       Fish     11         1        1\n",
       "7   Khanh Le  Detergent      7         2        2\n",
       "8   Khanh Le      Knife      2         1        2\n",
       "9       John       Book      4        10        3"
      ]
     },
     "execution_count": 52,
     "metadata": {},
     "output_type": "execute_result"
    }
   ],
   "source": [
    "items_df = pd.read_csv(\"../database/items.csv\", index_col=\"ID\")\n",
    "items_df"
   ]
  },
  {
   "cell_type": "code",
   "execution_count": 53,
   "metadata": {},
   "outputs": [],
   "source": [
    "# orders_df[orders_df[\"StoreName\"] == \"Wegmans\"]\n",
    "# df[\"Total\"] = df[\"Price\"]*df[\"Quantity\"]\n",
    "# orders_df[\"Min_order\"] = stores_df[\"MinOrder\"][\"Wegmans\"]\n",
    "# orders_df[\"Total\"] = df.groupby('OrderID').sum()[\"Total\"]\n",
    "# orders_df[\"Percentage\"] = orders_df[\"Total\"]/orders_df[\"Min_order\"]*100\n",
    "# orders_df[\"Completion\"] = orders_df[\"Percentage\"].apply(lambda x: 100 if x > 100 else x)\n",
    "# orders_df"
   ]
  },
  {
   "cell_type": "code",
   "execution_count": 77,
   "metadata": {},
   "outputs": [],
   "source": [
    "def sort_by_date_store(store):\n",
    "    orders = orders_df\n",
    "    orders = orders[orders[\"StoreName\"] == store]\n",
    "    items = items_df\n",
    "    items[\"Total\"] = items[\"Price\"]*items[\"Quantity\"]\n",
    "    orders[\"MinOrder\"] = stores_df[\"MinOrder\"][store]\n",
    "    orders[\"Total\"] = items.groupby('OrderID').sum()[\"Total\"]\n",
    "    orders[\"Percentage\"] = [total/minOrder*100 if minOrder > 0 else 100 for total, minOrder in zip(orders[\"Total\"],orders[\"MinOrder\"])]\n",
    "    orders[\"Completion\"] = orders[\"Percentage\"].apply(lambda x: 100 if x > 100 else x)\n",
    "    orders[\"Descriptor\"] = [f\"{date} - {int(comp)}%\" for date, comp in zip(orders[\"OrderDate\"], orders[\"Completion\"])]\n",
    "    # orders.apply(lambda x: f\"{x['OrderDate']} {x['Completion']}%\")\n",
    "    return [(id, desc) for id, desc in zip(orders.index, orders[\"Descriptor\"])]\n",
    "\n",
    "def sort_by_date(orders, stores):\n",
    "    for store in stores:\n",
    "        sort_by_date_store(df, store)\n"
   ]
  },
  {
   "cell_type": "code",
   "execution_count": 78,
   "metadata": {},
   "outputs": [
    {
     "name": "stderr",
     "output_type": "stream",
     "text": [
      "C:\\Users\\lunat\\AppData\\Local\\Temp\\ipykernel_34052\\3339939327.py:6: SettingWithCopyWarning: \n",
      "A value is trying to be set on a copy of a slice from a DataFrame.\n",
      "Try using .loc[row_indexer,col_indexer] = value instead\n",
      "\n",
      "See the caveats in the documentation: https://pandas.pydata.org/pandas-docs/stable/user_guide/indexing.html#returning-a-view-versus-a-copy\n",
      "  orders[\"MinOrder\"] = stores_df[\"MinOrder\"][store]\n",
      "C:\\Users\\lunat\\AppData\\Local\\Temp\\ipykernel_34052\\3339939327.py:7: SettingWithCopyWarning: \n",
      "A value is trying to be set on a copy of a slice from a DataFrame.\n",
      "Try using .loc[row_indexer,col_indexer] = value instead\n",
      "\n",
      "See the caveats in the documentation: https://pandas.pydata.org/pandas-docs/stable/user_guide/indexing.html#returning-a-view-versus-a-copy\n",
      "  orders[\"Total\"] = items.groupby('OrderID').sum()[\"Total\"]\n",
      "C:\\Users\\lunat\\AppData\\Local\\Temp\\ipykernel_34052\\3339939327.py:8: SettingWithCopyWarning: \n",
      "A value is trying to be set on a copy of a slice from a DataFrame.\n",
      "Try using .loc[row_indexer,col_indexer] = value instead\n",
      "\n",
      "See the caveats in the documentation: https://pandas.pydata.org/pandas-docs/stable/user_guide/indexing.html#returning-a-view-versus-a-copy\n",
      "  orders[\"Percentage\"] = [total/minOrder*100 if minOrder > 0 else 100 for total, minOrder in zip(orders[\"Total\"],orders[\"MinOrder\"])]\n",
      "C:\\Users\\lunat\\AppData\\Local\\Temp\\ipykernel_34052\\3339939327.py:9: SettingWithCopyWarning: \n",
      "A value is trying to be set on a copy of a slice from a DataFrame.\n",
      "Try using .loc[row_indexer,col_indexer] = value instead\n",
      "\n",
      "See the caveats in the documentation: https://pandas.pydata.org/pandas-docs/stable/user_guide/indexing.html#returning-a-view-versus-a-copy\n",
      "  orders[\"Completion\"] = orders[\"Percentage\"].apply(lambda x: 100 if x > 100 else x)\n",
      "C:\\Users\\lunat\\AppData\\Local\\Temp\\ipykernel_34052\\3339939327.py:10: SettingWithCopyWarning: \n",
      "A value is trying to be set on a copy of a slice from a DataFrame.\n",
      "Try using .loc[row_indexer,col_indexer] = value instead\n",
      "\n",
      "See the caveats in the documentation: https://pandas.pydata.org/pandas-docs/stable/user_guide/indexing.html#returning-a-view-versus-a-copy\n",
      "  orders[\"Descriptor\"] = [f\"{date} - {int(comp)}%\" for date, comp in zip(orders[\"OrderDate\"], orders[\"Completion\"])]\n"
     ]
    },
    {
     "data": {
      "text/plain": [
       "[(2, '10-12-2023 - 100%')]"
      ]
     },
     "execution_count": 78,
     "metadata": {},
     "output_type": "execute_result"
    }
   ],
   "source": [
    "sort_by_date_store(\"Target\")"
   ]
  },
  {
   "cell_type": "code",
   "execution_count": 79,
   "metadata": {},
   "outputs": [
    {
     "data": {
      "text/plain": [
       "3"
      ]
     },
     "execution_count": 79,
     "metadata": {},
     "output_type": "execute_result"
    }
   ],
   "source": [
    "orders_df.index[-1]"
   ]
  },
  {
   "cell_type": "code",
   "execution_count": 82,
   "metadata": {},
   "outputs": [],
   "source": [
    "def get_order_total(order_id):\n",
    "    this_order = items_df[items_df[\"OrderID\"] == order_id]\n",
    "    this_order[\"Total\"] = this_order[\"Price\"]*this_order[\"Quantity\"]\n",
    "\n",
    "    return sum(this_order[\"Total\"])"
   ]
  },
  {
   "cell_type": "code",
   "execution_count": 83,
   "metadata": {},
   "outputs": [
    {
     "name": "stderr",
     "output_type": "stream",
     "text": [
      "C:\\Users\\lunat\\AppData\\Local\\Temp\\ipykernel_34052\\312595069.py:3: SettingWithCopyWarning: \n",
      "A value is trying to be set on a copy of a slice from a DataFrame.\n",
      "Try using .loc[row_indexer,col_indexer] = value instead\n",
      "\n",
      "See the caveats in the documentation: https://pandas.pydata.org/pandas-docs/stable/user_guide/indexing.html#returning-a-view-versus-a-copy\n",
      "  this_order[\"Total\"] = this_order[\"Price\"]*this_order[\"Quantity\"]\n"
     ]
    },
    {
     "data": {
      "text/plain": [
       "40"
      ]
     },
     "execution_count": 83,
     "metadata": {},
     "output_type": "execute_result"
    }
   ],
   "source": [
    "get_order_total(3)"
   ]
  },
  {
   "cell_type": "code",
   "execution_count": 85,
   "metadata": {},
   "outputs": [
    {
     "data": {
      "text/plain": [
       "35"
      ]
     },
     "execution_count": 85,
     "metadata": {},
     "output_type": "execute_result"
    }
   ],
   "source": [
    "stores_df.loc[\"Walmart\"][\"MinOrder\"]\n"
   ]
  },
  {
   "cell_type": "code",
   "execution_count": 87,
   "metadata": {},
   "outputs": [
    {
     "data": {
      "text/plain": [
       "True"
      ]
     },
     "execution_count": 87,
     "metadata": {},
     "output_type": "execute_result"
    }
   ],
   "source": [
    "\"Wegmans\" in list(orders_df[\"StoreName\"])"
   ]
  },
  {
   "cell_type": "code",
   "execution_count": 90,
   "metadata": {},
   "outputs": [
    {
     "data": {
      "text/plain": [
       "1"
      ]
     },
     "execution_count": 90,
     "metadata": {},
     "output_type": "execute_result"
    }
   ],
   "source": [
    "a = [\"a\", \"b\", \"c\", \"d\"]\n",
    "a.index(\"b\")"
   ]
  },
  {
   "cell_type": "code",
   "execution_count": null,
   "metadata": {},
   "outputs": [],
   "source": []
  }
 ],
 "metadata": {
  "kernelspec": {
   "display_name": "bytebuy",
   "language": "python",
   "name": "python3"
  },
  "language_info": {
   "codemirror_mode": {
    "name": "ipython",
    "version": 3
   },
   "file_extension": ".py",
   "mimetype": "text/x-python",
   "name": "python",
   "nbconvert_exporter": "python",
   "pygments_lexer": "ipython3",
   "version": "3.10.13"
  }
 },
 "nbformat": 4,
 "nbformat_minor": 2
}
